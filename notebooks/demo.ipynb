from pde_solver_api.solvers.schrodinger_circle import solve_schrodinger_circle
import matplotlib.pyplot as plt
import matplotlib.tri as tri

E, psi, points, cells = solve_schrodinger_circle(radius=1.0, num_points=50, num_eigenvalues=4)

print("Собственные значения:")
for i, val in enumerate(E):
    print(f"E[{i}] = {val:.4f}")

triang = tri.Triangulation(points[:, 0], points[:, 1], cells)
for i in range(4):
    plt.figure(figsize=(6, 5))
    plt.tricontourf(triang, psi[:, i], levels=100, cmap='viridis')
    plt.title(f"Mode {i+1}, E = {E[i]:.4f}")
    plt.axis('equal')
    plt.colorbar(label='ψ')
    plt.savefig(f"tests/visualizations/eigenmode_{i+1}.png")
    plt.close()
